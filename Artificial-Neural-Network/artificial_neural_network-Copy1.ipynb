{
 "cells": [
  {
   "cell_type": "markdown",
   "metadata": {
    "colab_type": "text",
    "id": "lP6JLo1tGNBg"
   },
   "source": [
    "# Artificial Neural Network"
   ]
  },
  {
   "cell_type": "markdown",
   "metadata": {
    "colab_type": "text",
    "id": "gWZyYmS_UE_L"
   },
   "source": [
    "### Importing the libraries"
   ]
  },
  {
   "cell_type": "code",
   "execution_count": 1,
   "metadata": {},
   "outputs": [
    {
     "name": "stderr",
     "output_type": "stream",
     "text": [
      "2021-07-09 22:39:16.990080: W tensorflow/stream_executor/platform/default/dso_loader.cc:64] Could not load dynamic library 'libcudart.so.11.0'; dlerror: libcudart.so.11.0: cannot open shared object file: No such file or directory\n",
      "2021-07-09 22:39:16.990107: I tensorflow/stream_executor/cuda/cudart_stub.cc:29] Ignore above cudart dlerror if you do not have a GPU set up on your machine.\n"
     ]
    }
   ],
   "source": [
    "import numpy as np\n",
    "import pandas as pd\n",
    "import tensorflow as tf"
   ]
  },
  {
   "cell_type": "code",
   "execution_count": 2,
   "metadata": {},
   "outputs": [
    {
     "data": {
      "text/plain": [
       "'2.5.0'"
      ]
     },
     "execution_count": 2,
     "metadata": {},
     "output_type": "execute_result"
    }
   ],
   "source": [
    "tf.__version__"
   ]
  },
  {
   "cell_type": "markdown",
   "metadata": {
    "colab_type": "text",
    "id": "1E0Q3aoKUCRX"
   },
   "source": [
    "## Part 1 - Data Preprocessing"
   ]
  },
  {
   "cell_type": "markdown",
   "metadata": {
    "colab_type": "text",
    "id": "cKWAkFVGUU0Z"
   },
   "source": [
    "### Importing the dataset"
   ]
  },
  {
   "cell_type": "code",
   "execution_count": 3,
   "metadata": {},
   "outputs": [],
   "source": [
    "dataset = pd.read_csv('Churn_Modelling.csv')\n",
    "X = dataset.iloc[:, 3:-1].values\n",
    "y = dataset.iloc[:, -1].values"
   ]
  },
  {
   "cell_type": "code",
   "execution_count": 4,
   "metadata": {},
   "outputs": [
    {
     "name": "stdout",
     "output_type": "stream",
     "text": [
      "[[619 'France' 'Female' ... 1 1 101348.88]\n",
      " [608 'Spain' 'Female' ... 0 1 112542.58]\n",
      " [502 'France' 'Female' ... 1 0 113931.57]\n",
      " ...\n",
      " [709 'France' 'Female' ... 0 1 42085.58]\n",
      " [772 'Germany' 'Male' ... 1 0 92888.52]\n",
      " [792 'France' 'Female' ... 1 0 38190.78]]\n",
      "[1 0 1 ... 1 1 0]\n"
     ]
    }
   ],
   "source": [
    "print(X)\n",
    "print(y)"
   ]
  },
  {
   "cell_type": "markdown",
   "metadata": {
    "colab_type": "text",
    "id": "N6bQ0UgSU-NJ"
   },
   "source": [
    "### Encoding categorical data"
   ]
  },
  {
   "cell_type": "markdown",
   "metadata": {
    "colab_type": "text",
    "id": "le5MJreAbW52"
   },
   "source": [
    "Label Encoding the \"Gender\" column"
   ]
  },
  {
   "cell_type": "code",
   "execution_count": 5,
   "metadata": {},
   "outputs": [],
   "source": [
    "from sklearn.preprocessing import LabelEncoder\n",
    "le = LabelEncoder()\n",
    "X[:, 2] = le.fit_transform(X[:, 2])"
   ]
  },
  {
   "cell_type": "code",
   "execution_count": 6,
   "metadata": {},
   "outputs": [
    {
     "name": "stdout",
     "output_type": "stream",
     "text": [
      "[[619 'France' 0 ... 1 1 101348.88]\n",
      " [608 'Spain' 0 ... 0 1 112542.58]\n",
      " [502 'France' 0 ... 1 0 113931.57]\n",
      " ...\n",
      " [709 'France' 0 ... 0 1 42085.58]\n",
      " [772 'Germany' 1 ... 1 0 92888.52]\n",
      " [792 'France' 0 ... 1 0 38190.78]]\n"
     ]
    }
   ],
   "source": [
    "print(X)"
   ]
  },
  {
   "cell_type": "markdown",
   "metadata": {
    "colab_type": "text",
    "id": "CUxGZezpbMcb"
   },
   "source": [
    "One Hot Encoding the \"Geography\" column"
   ]
  },
  {
   "cell_type": "code",
   "execution_count": 7,
   "metadata": {},
   "outputs": [],
   "source": [
    "from sklearn.compose import ColumnTransformer\n",
    "from sklearn.preprocessing import OneHotEncoder\n",
    "ct = ColumnTransformer(transformers=[('encoder', OneHotEncoder(), [1])], remainder='passthrough')\n",
    "X = np.array(ct.fit_transform(X))"
   ]
  },
  {
   "cell_type": "code",
   "execution_count": 8,
   "metadata": {},
   "outputs": [
    {
     "name": "stdout",
     "output_type": "stream",
     "text": [
      "[[1.0 0.0 0.0 ... 1 1 101348.88]\n",
      " [0.0 0.0 1.0 ... 0 1 112542.58]\n",
      " [1.0 0.0 0.0 ... 1 0 113931.57]\n",
      " ...\n",
      " [1.0 0.0 0.0 ... 0 1 42085.58]\n",
      " [0.0 1.0 0.0 ... 1 0 92888.52]\n",
      " [1.0 0.0 0.0 ... 1 0 38190.78]]\n"
     ]
    }
   ],
   "source": [
    "print(X)"
   ]
  },
  {
   "cell_type": "markdown",
   "metadata": {
    "colab_type": "text",
    "id": "vHol938cW8zd"
   },
   "source": [
    "### Splitting the dataset into the Training set and Test set"
   ]
  },
  {
   "cell_type": "code",
   "execution_count": 12,
   "metadata": {},
   "outputs": [],
   "source": [
    "from sklearn.model_selection import train_test_split\n",
    "X_train, X_test, y_train, y_test = train_test_split(X, y, test_size = 0.2, random_state = 0)"
   ]
  },
  {
   "cell_type": "markdown",
   "metadata": {
    "colab_type": "text",
    "id": "RE_FcHyfV3TQ"
   },
   "source": [
    "### Feature Scaling"
   ]
  },
  {
   "cell_type": "code",
   "execution_count": 13,
   "metadata": {},
   "outputs": [],
   "source": [
    "from sklearn.preprocessing import StandardScaler\n",
    "sc = StandardScaler()\n",
    "X_train = sc.fit_transform(X_train)\n",
    "X_test = sc.transform(X_test)"
   ]
  },
  {
   "cell_type": "markdown",
   "metadata": {
    "colab_type": "text",
    "id": "-zfEzkRVXIwF"
   },
   "source": [
    "## Part 2 - Building the ANN"
   ]
  },
  {
   "cell_type": "markdown",
   "metadata": {
    "colab_type": "text",
    "id": "KvdeScabXtlB"
   },
   "source": [
    "### Initializing the ANN"
   ]
  },
  {
   "cell_type": "code",
   "execution_count": 14,
   "metadata": {},
   "outputs": [
    {
     "name": "stderr",
     "output_type": "stream",
     "text": [
      "2021-07-10 11:01:58.591550: W tensorflow/stream_executor/platform/default/dso_loader.cc:64] Could not load dynamic library 'libcuda.so.1'; dlerror: libcuda.so.1: cannot open shared object file: No such file or directory\n",
      "2021-07-10 11:01:58.591600: W tensorflow/stream_executor/cuda/cuda_driver.cc:326] failed call to cuInit: UNKNOWN ERROR (303)\n",
      "2021-07-10 11:01:58.591635: I tensorflow/stream_executor/cuda/cuda_diagnostics.cc:156] kernel driver does not appear to be running on this host (deneb): /proc/driver/nvidia/version does not exist\n",
      "2021-07-10 11:01:58.592030: I tensorflow/core/platform/cpu_feature_guard.cc:142] This TensorFlow binary is optimized with oneAPI Deep Neural Network Library (oneDNN) to use the following CPU instructions in performance-critical operations:  AVX2 FMA\n",
      "To enable them in other operations, rebuild TensorFlow with the appropriate compiler flags.\n"
     ]
    }
   ],
   "source": [
    "ann = tf.keras.models.Sequential()"
   ]
  },
  {
   "cell_type": "markdown",
   "metadata": {
    "colab_type": "text",
    "id": "rP6urV6SX7kS"
   },
   "source": [
    "### Adding the input layer and the first hidden layer"
   ]
  },
  {
   "cell_type": "code",
   "execution_count": 15,
   "metadata": {},
   "outputs": [],
   "source": [
    "ann.add(tf.keras.layers.Dense(units=6, activation='relu'))"
   ]
  },
  {
   "cell_type": "markdown",
   "metadata": {
    "colab_type": "text",
    "id": "BELWAc_8YJze"
   },
   "source": [
    "### Adding the second hidden layer"
   ]
  },
  {
   "cell_type": "code",
   "execution_count": 16,
   "metadata": {},
   "outputs": [],
   "source": [
    "ann.add(tf.keras.layers.Dense(units=6, activation='relu'))"
   ]
  },
  {
   "cell_type": "markdown",
   "metadata": {
    "colab_type": "text",
    "id": "OyNEe6RXYcU4"
   },
   "source": [
    "### Adding the output layer"
   ]
  },
  {
   "cell_type": "code",
   "execution_count": 17,
   "metadata": {},
   "outputs": [],
   "source": [
    "ann.add(tf.keras.layers.Dense(units=1, activation='sigmoid'))"
   ]
  },
  {
   "cell_type": "markdown",
   "metadata": {
    "colab_type": "text",
    "id": "JT4u2S1_Y4WG"
   },
   "source": [
    "## Part 3 - Training the ANN"
   ]
  },
  {
   "cell_type": "markdown",
   "metadata": {
    "colab_type": "text",
    "id": "8GWlJChhY_ZI"
   },
   "source": [
    "### Compiling the ANN"
   ]
  },
  {
   "cell_type": "code",
   "execution_count": 19,
   "metadata": {},
   "outputs": [],
   "source": [
    "ann.compile(optimizer = 'adam', loss = 'binary_crossentropy', metrics =  ['accuracy'])"
   ]
  },
  {
   "cell_type": "markdown",
   "metadata": {
    "colab_type": "text",
    "id": "0QR_G5u7ZLSM"
   },
   "source": [
    "### Training the ANN on the Training set"
   ]
  },
  {
   "cell_type": "code",
   "execution_count": 20,
   "metadata": {},
   "outputs": [
    {
     "name": "stderr",
     "output_type": "stream",
     "text": [
      "2021-07-10 11:02:52.593141: I tensorflow/compiler/mlir/mlir_graph_optimization_pass.cc:176] None of the MLIR Optimization Passes are enabled (registered 2)\n",
      "2021-07-10 11:02:52.612316: I tensorflow/core/platform/profile_utils/cpu_utils.cc:114] CPU Frequency: 1999965000 Hz\n"
     ]
    },
    {
     "name": "stdout",
     "output_type": "stream",
     "text": [
      "Epoch 1/100\n",
      "250/250 [==============================] - 0s 598us/step - loss: 0.5441 - accuracy: 0.7741\n",
      "Epoch 2/100\n",
      "250/250 [==============================] - 0s 606us/step - loss: 0.4625 - accuracy: 0.7960\n",
      "Epoch 3/100\n",
      "250/250 [==============================] - 0s 607us/step - loss: 0.4449 - accuracy: 0.7959\n",
      "Epoch 4/100\n",
      "250/250 [==============================] - 0s 621us/step - loss: 0.4365 - accuracy: 0.7991\n",
      "Epoch 5/100\n",
      "250/250 [==============================] - 0s 641us/step - loss: 0.4316 - accuracy: 0.8044\n",
      "Epoch 6/100\n",
      "250/250 [==============================] - 0s 590us/step - loss: 0.4282 - accuracy: 0.8119\n",
      "Epoch 7/100\n",
      "250/250 [==============================] - 0s 685us/step - loss: 0.4259 - accuracy: 0.8173\n",
      "Epoch 8/100\n",
      "250/250 [==============================] - 0s 789us/step - loss: 0.4239 - accuracy: 0.8210\n",
      "Epoch 9/100\n",
      "250/250 [==============================] - 0s 676us/step - loss: 0.4216 - accuracy: 0.8202\n",
      "Epoch 10/100\n",
      "250/250 [==============================] - 0s 701us/step - loss: 0.4192 - accuracy: 0.8239\n",
      "Epoch 11/100\n",
      "250/250 [==============================] - 0s 867us/step - loss: 0.4172 - accuracy: 0.8273\n",
      "Epoch 12/100\n",
      "250/250 [==============================] - 0s 621us/step - loss: 0.4151 - accuracy: 0.8285\n",
      "Epoch 13/100\n",
      "250/250 [==============================] - 0s 648us/step - loss: 0.4135 - accuracy: 0.8300\n",
      "Epoch 14/100\n",
      "250/250 [==============================] - 0s 803us/step - loss: 0.4116 - accuracy: 0.8306\n",
      "Epoch 15/100\n",
      "250/250 [==============================] - 0s 793us/step - loss: 0.4106 - accuracy: 0.8307\n",
      "Epoch 16/100\n",
      "250/250 [==============================] - 0s 856us/step - loss: 0.4097 - accuracy: 0.8314\n",
      "Epoch 17/100\n",
      "250/250 [==============================] - 0s 1ms/step - loss: 0.4085 - accuracy: 0.8310\n",
      "Epoch 18/100\n",
      "250/250 [==============================] - 0s 830us/step - loss: 0.4078 - accuracy: 0.8319\n",
      "Epoch 19/100\n",
      "250/250 [==============================] - 0s 834us/step - loss: 0.4073 - accuracy: 0.8328\n",
      "Epoch 20/100\n",
      "250/250 [==============================] - 0s 762us/step - loss: 0.4065 - accuracy: 0.8322\n",
      "Epoch 21/100\n",
      "250/250 [==============================] - 0s 897us/step - loss: 0.4058 - accuracy: 0.8322\n",
      "Epoch 22/100\n",
      "250/250 [==============================] - 0s 902us/step - loss: 0.4052 - accuracy: 0.8339\n",
      "Epoch 23/100\n",
      "250/250 [==============================] - 0s 903us/step - loss: 0.4048 - accuracy: 0.8329\n",
      "Epoch 24/100\n",
      "250/250 [==============================] - 0s 963us/step - loss: 0.4041 - accuracy: 0.8320\n",
      "Epoch 25/100\n",
      "250/250 [==============================] - 0s 897us/step - loss: 0.4038 - accuracy: 0.8334\n",
      "Epoch 26/100\n",
      "250/250 [==============================] - 0s 815us/step - loss: 0.4033 - accuracy: 0.8329\n",
      "Epoch 27/100\n",
      "250/250 [==============================] - 0s 914us/step - loss: 0.4029 - accuracy: 0.8320\n",
      "Epoch 28/100\n",
      "250/250 [==============================] - 0s 1ms/step - loss: 0.4021 - accuracy: 0.8320\n",
      "Epoch 29/100\n",
      "250/250 [==============================] - 0s 997us/step - loss: 0.4017 - accuracy: 0.8326\n",
      "Epoch 30/100\n",
      "250/250 [==============================] - 0s 1ms/step - loss: 0.4012 - accuracy: 0.8315\n",
      "Epoch 31/100\n",
      "250/250 [==============================] - 0s 1ms/step - loss: 0.4006 - accuracy: 0.8328\n",
      "Epoch 32/100\n",
      "250/250 [==============================] - 0s 1ms/step - loss: 0.3999 - accuracy: 0.8321\n",
      "Epoch 33/100\n",
      "250/250 [==============================] - 0s 922us/step - loss: 0.3990 - accuracy: 0.8330\n",
      "Epoch 34/100\n",
      "250/250 [==============================] - 0s 1ms/step - loss: 0.3979 - accuracy: 0.8324\n",
      "Epoch 35/100\n",
      "250/250 [==============================] - 0s 1ms/step - loss: 0.3966 - accuracy: 0.8320\n",
      "Epoch 36/100\n",
      "250/250 [==============================] - 0s 1ms/step - loss: 0.3957 - accuracy: 0.8317\n",
      "Epoch 37/100\n",
      "250/250 [==============================] - 0s 830us/step - loss: 0.3944 - accuracy: 0.8332\n",
      "Epoch 38/100\n",
      "250/250 [==============================] - 0s 925us/step - loss: 0.3935 - accuracy: 0.8321\n",
      "Epoch 39/100\n",
      "250/250 [==============================] - 0s 928us/step - loss: 0.3928 - accuracy: 0.8338\n",
      "Epoch 40/100\n",
      "250/250 [==============================] - 0s 905us/step - loss: 0.3922 - accuracy: 0.8339\n",
      "Epoch 41/100\n",
      "250/250 [==============================] - 0s 926us/step - loss: 0.3916 - accuracy: 0.8346\n",
      "Epoch 42/100\n",
      "250/250 [==============================] - 0s 892us/step - loss: 0.3908 - accuracy: 0.8349\n",
      "Epoch 43/100\n",
      "250/250 [==============================] - 0s 847us/step - loss: 0.3897 - accuracy: 0.8355\n",
      "Epoch 44/100\n",
      "250/250 [==============================] - 0s 948us/step - loss: 0.3895 - accuracy: 0.8359\n",
      "Epoch 45/100\n",
      "250/250 [==============================] - 0s 958us/step - loss: 0.3888 - accuracy: 0.8381\n",
      "Epoch 46/100\n",
      "250/250 [==============================] - 0s 1ms/step - loss: 0.3884 - accuracy: 0.8375\n",
      "Epoch 47/100\n",
      "250/250 [==============================] - 0s 1ms/step - loss: 0.3879 - accuracy: 0.8376\n",
      "Epoch 48/100\n",
      "250/250 [==============================] - 0s 1ms/step - loss: 0.3873 - accuracy: 0.8386\n",
      "Epoch 49/100\n",
      "250/250 [==============================] - 0s 1ms/step - loss: 0.3869 - accuracy: 0.8382\n",
      "Epoch 50/100\n",
      "250/250 [==============================] - 0s 1ms/step - loss: 0.3866 - accuracy: 0.8388\n",
      "Epoch 51/100\n",
      "250/250 [==============================] - 0s 1ms/step - loss: 0.3862 - accuracy: 0.8386\n",
      "Epoch 52/100\n",
      "250/250 [==============================] - 0s 978us/step - loss: 0.3860 - accuracy: 0.8388\n",
      "Epoch 53/100\n",
      "250/250 [==============================] - 0s 989us/step - loss: 0.3856 - accuracy: 0.8393\n",
      "Epoch 54/100\n",
      "250/250 [==============================] - 0s 1ms/step - loss: 0.3852 - accuracy: 0.8386\n",
      "Epoch 55/100\n",
      "250/250 [==============================] - 0s 902us/step - loss: 0.3851 - accuracy: 0.8388\n",
      "Epoch 56/100\n",
      "250/250 [==============================] - 0s 836us/step - loss: 0.3847 - accuracy: 0.8394\n",
      "Epoch 57/100\n",
      "250/250 [==============================] - 0s 917us/step - loss: 0.3844 - accuracy: 0.8390\n",
      "Epoch 58/100\n",
      "250/250 [==============================] - 0s 878us/step - loss: 0.3839 - accuracy: 0.8399\n",
      "Epoch 59/100\n",
      "250/250 [==============================] - 0s 937us/step - loss: 0.3839 - accuracy: 0.8385\n",
      "Epoch 60/100\n",
      "250/250 [==============================] - 0s 859us/step - loss: 0.3836 - accuracy: 0.8401\n",
      "Epoch 61/100\n",
      "250/250 [==============================] - 0s 888us/step - loss: 0.3832 - accuracy: 0.8394\n",
      "Epoch 62/100\n",
      "250/250 [==============================] - 0s 991us/step - loss: 0.3832 - accuracy: 0.8395\n",
      "Epoch 63/100\n",
      "250/250 [==============================] - 0s 1ms/step - loss: 0.3827 - accuracy: 0.8415\n",
      "Epoch 64/100\n",
      "250/250 [==============================] - 0s 1ms/step - loss: 0.3826 - accuracy: 0.8410\n",
      "Epoch 65/100\n",
      "250/250 [==============================] - 0s 1ms/step - loss: 0.3820 - accuracy: 0.8400\n",
      "Epoch 66/100\n",
      "250/250 [==============================] - 0s 1ms/step - loss: 0.3815 - accuracy: 0.8401\n",
      "Epoch 67/100\n",
      "250/250 [==============================] - 0s 1ms/step - loss: 0.3812 - accuracy: 0.8401\n",
      "Epoch 68/100\n",
      "250/250 [==============================] - 0s 1ms/step - loss: 0.3805 - accuracy: 0.8420\n",
      "Epoch 69/100\n",
      "250/250 [==============================] - 0s 1ms/step - loss: 0.3803 - accuracy: 0.8414\n",
      "Epoch 70/100\n",
      "250/250 [==============================] - 0s 1ms/step - loss: 0.3794 - accuracy: 0.8420\n",
      "Epoch 71/100\n",
      "250/250 [==============================] - 0s 1ms/step - loss: 0.3788 - accuracy: 0.8422\n",
      "Epoch 72/100\n",
      "250/250 [==============================] - 0s 1ms/step - loss: 0.3776 - accuracy: 0.8434\n",
      "Epoch 73/100\n",
      "250/250 [==============================] - 0s 1ms/step - loss: 0.3765 - accuracy: 0.8426\n",
      "Epoch 74/100\n",
      "250/250 [==============================] - 0s 1ms/step - loss: 0.3749 - accuracy: 0.8432\n",
      "Epoch 75/100\n",
      "250/250 [==============================] - 0s 1ms/step - loss: 0.3741 - accuracy: 0.8441\n",
      "Epoch 76/100\n",
      "250/250 [==============================] - 0s 1ms/step - loss: 0.3726 - accuracy: 0.8444\n",
      "Epoch 77/100\n",
      "250/250 [==============================] - 0s 1ms/step - loss: 0.3716 - accuracy: 0.8432\n",
      "Epoch 78/100\n",
      "250/250 [==============================] - 0s 1ms/step - loss: 0.3701 - accuracy: 0.8450\n",
      "Epoch 79/100\n",
      "250/250 [==============================] - 0s 1ms/step - loss: 0.3698 - accuracy: 0.8460\n",
      "Epoch 80/100\n"
     ]
    },
    {
     "name": "stdout",
     "output_type": "stream",
     "text": [
      "250/250 [==============================] - 0s 1ms/step - loss: 0.3683 - accuracy: 0.8462\n",
      "Epoch 81/100\n",
      "250/250 [==============================] - 0s 954us/step - loss: 0.3674 - accuracy: 0.8465\n",
      "Epoch 82/100\n",
      "250/250 [==============================] - 0s 1ms/step - loss: 0.3656 - accuracy: 0.8460\n",
      "Epoch 83/100\n",
      "250/250 [==============================] - 0s 980us/step - loss: 0.3650 - accuracy: 0.8462\n",
      "Epoch 84/100\n",
      "250/250 [==============================] - 0s 990us/step - loss: 0.3638 - accuracy: 0.8478\n",
      "Epoch 85/100\n",
      "250/250 [==============================] - 0s 1ms/step - loss: 0.3610 - accuracy: 0.8481\n",
      "Epoch 86/100\n",
      "250/250 [==============================] - 0s 1ms/step - loss: 0.3597 - accuracy: 0.8503\n",
      "Epoch 87/100\n",
      "250/250 [==============================] - 0s 1ms/step - loss: 0.3570 - accuracy: 0.8510\n",
      "Epoch 88/100\n",
      "250/250 [==============================] - 0s 1ms/step - loss: 0.3547 - accuracy: 0.8509\n",
      "Epoch 89/100\n",
      "250/250 [==============================] - 0s 1ms/step - loss: 0.3523 - accuracy: 0.8512\n",
      "Epoch 90/100\n",
      "250/250 [==============================] - 0s 1ms/step - loss: 0.3511 - accuracy: 0.8510\n",
      "Epoch 91/100\n",
      "250/250 [==============================] - 0s 921us/step - loss: 0.3493 - accuracy: 0.8536\n",
      "Epoch 92/100\n",
      "250/250 [==============================] - 0s 954us/step - loss: 0.3475 - accuracy: 0.8530\n",
      "Epoch 93/100\n",
      "250/250 [==============================] - 0s 833us/step - loss: 0.3463 - accuracy: 0.8550\n",
      "Epoch 94/100\n",
      "250/250 [==============================] - 0s 857us/step - loss: 0.3454 - accuracy: 0.8547\n",
      "Epoch 95/100\n",
      "250/250 [==============================] - 0s 913us/step - loss: 0.3438 - accuracy: 0.8560\n",
      "Epoch 96/100\n",
      "250/250 [==============================] - 0s 859us/step - loss: 0.3435 - accuracy: 0.8558\n",
      "Epoch 97/100\n",
      "250/250 [==============================] - 0s 915us/step - loss: 0.3419 - accuracy: 0.8572\n",
      "Epoch 98/100\n",
      "250/250 [==============================] - 0s 1ms/step - loss: 0.3416 - accuracy: 0.8556\n",
      "Epoch 99/100\n",
      "250/250 [==============================] - 0s 1ms/step - loss: 0.3409 - accuracy: 0.8587\n",
      "Epoch 100/100\n",
      "250/250 [==============================] - 0s 998us/step - loss: 0.3402 - accuracy: 0.8561\n"
     ]
    },
    {
     "data": {
      "text/plain": [
       "<tensorflow.python.keras.callbacks.History at 0x7f4da02b1d60>"
      ]
     },
     "execution_count": 20,
     "metadata": {},
     "output_type": "execute_result"
    }
   ],
   "source": [
    "ann.fit(X_train, y_train, batch_size = 32, epochs = 100)"
   ]
  },
  {
   "cell_type": "markdown",
   "metadata": {
    "colab_type": "text",
    "id": "tJj5k2MxZga3"
   },
   "source": [
    "## Part 4 - Making the predictions and evaluating the model"
   ]
  },
  {
   "cell_type": "markdown",
   "metadata": {
    "colab_type": "text",
    "id": "84QFoqGYeXHL"
   },
   "source": [
    "### Predicting the result of a single observation"
   ]
  },
  {
   "cell_type": "markdown",
   "metadata": {
    "colab_type": "text",
    "id": "CGRo3eacgDdC"
   },
   "source": [
    "**Homework**\n",
    "\n",
    "Use our ANN model to predict if the customer with the following informations will leave the bank: \n",
    "\n",
    "Geography: France\n",
    "\n",
    "Credit Score: 600\n",
    "\n",
    "Gender: Male\n",
    "\n",
    "Age: 40 years old\n",
    "\n",
    "Tenure: 3 years\n",
    "\n",
    "Balance: \\$ 60000\n",
    "\n",
    "Number of Products: 2\n",
    "\n",
    "Does this customer have a credit card ? Yes\n",
    "\n",
    "Is this customer an Active Member: Yes\n",
    "\n",
    "Estimated Salary: \\$ 50000\n",
    "\n",
    "So, should we say goodbye to that customer ?"
   ]
  },
  {
   "cell_type": "markdown",
   "metadata": {
    "colab_type": "text",
    "id": "ZhU1LTgPg-kH"
   },
   "source": [
    "**Solution**"
   ]
  },
  {
   "cell_type": "code",
   "execution_count": 23,
   "metadata": {},
   "outputs": [
    {
     "name": "stdout",
     "output_type": "stream",
     "text": [
      "[[False]]\n"
     ]
    }
   ],
   "source": [
    "print(ann.predict(sc.transform([[1, 0, 0, 600, 1, 40, 3, 60000, 2, 1, 1, 50000]])) > 0.5)"
   ]
  },
  {
   "cell_type": "markdown",
   "metadata": {
    "colab_type": "text",
    "id": "wGjx94g2n7OV"
   },
   "source": [
    "Therefore, our ANN model predicts that this customer stays in the bank!\n",
    "\n",
    "**Important note 1:** Notice that the values of the features were all input in a double pair of square brackets. That's because the \"predict\" method always expects a 2D array as the format of its inputs. And putting our values into a double pair of square brackets makes the input exactly a 2D array.\n",
    "\n",
    "**Important note 2:** Notice also that the \"France\" country was not input as a string in the last column but as \"1, 0, 0\" in the first three columns. That's because of course the predict method expects the one-hot-encoded values of the state, and as we see in the first row of the matrix of features X, \"France\" was encoded as \"1, 0, 0\". And be careful to include these values in the first three columns, because the dummy variables are always created in the first columns."
   ]
  },
  {
   "cell_type": "markdown",
   "metadata": {
    "colab_type": "text",
    "id": "u7yx47jPZt11"
   },
   "source": [
    "### Predicting the Test set results"
   ]
  },
  {
   "cell_type": "code",
   "execution_count": 24,
   "metadata": {},
   "outputs": [
    {
     "name": "stdout",
     "output_type": "stream",
     "text": [
      "[[0 0]\n",
      " [0 1]\n",
      " [0 0]\n",
      " ...\n",
      " [0 0]\n",
      " [0 0]\n",
      " [0 0]]\n"
     ]
    }
   ],
   "source": [
    "y_pred = ann.predict(X_test)\n",
    "y_pred = (y_pred > 0.5)\n",
    "print(np.concatenate((y_pred.reshape(len(y_pred), 1), y_test.reshape(len(y_test),1)),1))"
   ]
  },
  {
   "cell_type": "markdown",
   "metadata": {
    "colab_type": "text",
    "id": "o0oyfLWoaEGw"
   },
   "source": [
    "### Making the Confusion Matrix"
   ]
  },
  {
   "cell_type": "code",
   "execution_count": 25,
   "metadata": {},
   "outputs": [
    {
     "name": "stdout",
     "output_type": "stream",
     "text": [
      "[[1556   39]\n",
      " [ 230  175]]\n"
     ]
    },
    {
     "data": {
      "text/plain": [
       "0.8655"
      ]
     },
     "execution_count": 25,
     "metadata": {},
     "output_type": "execute_result"
    }
   ],
   "source": [
    "from sklearn.metrics import confusion_matrix, accuracy_score\n",
    "cm = confusion_matrix(y_test, y_pred)\n",
    "print(cm)\n",
    "accuracy_score(y_test, y_pred)"
   ]
  }
 ],
 "metadata": {
  "colab": {
   "collapsed_sections": [],
   "name": "artificial_neural_network.ipynb",
   "provenance": [],
   "toc_visible": true
  },
  "kernelspec": {
   "display_name": "Python 3 (ipykernel)",
   "language": "python",
   "name": "python3"
  },
  "language_info": {
   "codemirror_mode": {
    "name": "ipython",
    "version": 3
   },
   "file_extension": ".py",
   "mimetype": "text/x-python",
   "name": "python",
   "nbconvert_exporter": "python",
   "pygments_lexer": "ipython3",
   "version": "3.8.10"
  }
 },
 "nbformat": 4,
 "nbformat_minor": 1
}
