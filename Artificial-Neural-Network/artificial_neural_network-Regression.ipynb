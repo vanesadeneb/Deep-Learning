{
 "cells": [
  {
   "cell_type": "markdown",
   "metadata": {
    "colab_type": "text",
    "id": "lP6JLo1tGNBg"
   },
   "source": [
    "# Artificial Neural Network"
   ]
  },
  {
   "cell_type": "markdown",
   "metadata": {
    "colab_type": "text",
    "id": "gWZyYmS_UE_L"
   },
   "source": [
    "### Importing the libraries"
   ]
  },
  {
   "cell_type": "code",
   "execution_count": 1,
   "metadata": {},
   "outputs": [
    {
     "name": "stderr",
     "output_type": "stream",
     "text": [
      "2021-07-09 22:14:46.790249: W tensorflow/stream_executor/platform/default/dso_loader.cc:64] Could not load dynamic library 'libcudart.so.11.0'; dlerror: libcudart.so.11.0: cannot open shared object file: No such file or directory\n",
      "2021-07-09 22:14:46.790274: I tensorflow/stream_executor/cuda/cudart_stub.cc:29] Ignore above cudart dlerror if you do not have a GPU set up on your machine.\n"
     ]
    }
   ],
   "source": [
    "import numpy as np\n",
    "import pandas as pd\n",
    "import tensorflow as tf"
   ]
  },
  {
   "cell_type": "code",
   "execution_count": 2,
   "metadata": {},
   "outputs": [
    {
     "data": {
      "text/plain": [
       "'2.5.0'"
      ]
     },
     "execution_count": 2,
     "metadata": {},
     "output_type": "execute_result"
    }
   ],
   "source": [
    "tf.__version__"
   ]
  },
  {
   "cell_type": "markdown",
   "metadata": {
    "colab_type": "text",
    "id": "1E0Q3aoKUCRX"
   },
   "source": [
    "## Part 1 - Data Preprocessing"
   ]
  },
  {
   "cell_type": "markdown",
   "metadata": {
    "colab_type": "text",
    "id": "cKWAkFVGUU0Z"
   },
   "source": [
    "### Importing the dataset"
   ]
  },
  {
   "cell_type": "code",
   "execution_count": 3,
   "metadata": {},
   "outputs": [],
   "source": [
    "dataset = pd.read_excel('CCPP/Folds5x2_pp.xlsx')\n",
    "X = dataset.iloc[:, :-1].values\n",
    "y = dataset.iloc[:, -1].values"
   ]
  },
  {
   "cell_type": "code",
   "execution_count": 4,
   "metadata": {
    "scrolled": true
   },
   "outputs": [
    {
     "name": "stdout",
     "output_type": "stream",
     "text": [
      "[[  14.96   41.76 1024.07   73.17]\n",
      " [  25.18   62.96 1020.04   59.08]\n",
      " [   5.11   39.4  1012.16   92.14]\n",
      " ...\n",
      " [  31.32   74.33 1012.92   36.48]\n",
      " [  24.48   69.45 1013.86   62.39]\n",
      " [  21.6    62.52 1017.23   67.87]]\n",
      "[463.26 444.37 488.56 ... 429.57 435.74 453.28]\n"
     ]
    }
   ],
   "source": [
    "print(X)\n",
    "print (y)"
   ]
  },
  {
   "cell_type": "markdown",
   "metadata": {
    "colab_type": "text",
    "id": "N6bQ0UgSU-NJ"
   },
   "source": [
    "### Encoding categorical data"
   ]
  },
  {
   "cell_type": "markdown",
   "metadata": {
    "colab_type": "text",
    "id": "le5MJreAbW52"
   },
   "source": [
    "Label Encoding the \"Gender\" column"
   ]
  },
  {
   "cell_type": "markdown",
   "metadata": {
    "colab_type": "text",
    "id": "CUxGZezpbMcb"
   },
   "source": [
    "One Hot Encoding the \"Geography\" column"
   ]
  },
  {
   "cell_type": "markdown",
   "metadata": {
    "colab_type": "text",
    "id": "vHol938cW8zd"
   },
   "source": [
    "### Splitting the dataset into the Training set and Test set"
   ]
  },
  {
   "cell_type": "code",
   "execution_count": 5,
   "metadata": {},
   "outputs": [],
   "source": [
    "from sklearn.model_selection import train_test_split\n",
    "X_train, X_test, y_train, y_test = train_test_split(X, y, test_size = 0.2, random_state = 0)"
   ]
  },
  {
   "cell_type": "markdown",
   "metadata": {
    "colab_type": "text",
    "id": "RE_FcHyfV3TQ"
   },
   "source": [
    "### Feature Scaling"
   ]
  },
  {
   "cell_type": "markdown",
   "metadata": {
    "colab_type": "text",
    "id": "-zfEzkRVXIwF"
   },
   "source": [
    "## Part 2 - Building the ANN"
   ]
  },
  {
   "cell_type": "markdown",
   "metadata": {
    "colab_type": "text",
    "id": "KvdeScabXtlB"
   },
   "source": [
    "### Initializing the ANN"
   ]
  },
  {
   "cell_type": "code",
   "execution_count": 6,
   "metadata": {},
   "outputs": [
    {
     "name": "stderr",
     "output_type": "stream",
     "text": [
      "2021-07-09 22:14:48.918579: W tensorflow/stream_executor/platform/default/dso_loader.cc:64] Could not load dynamic library 'libcuda.so.1'; dlerror: libcuda.so.1: cannot open shared object file: No such file or directory\n",
      "2021-07-09 22:14:48.918603: W tensorflow/stream_executor/cuda/cuda_driver.cc:326] failed call to cuInit: UNKNOWN ERROR (303)\n",
      "2021-07-09 22:14:48.918623: I tensorflow/stream_executor/cuda/cuda_diagnostics.cc:156] kernel driver does not appear to be running on this host (deneb): /proc/driver/nvidia/version does not exist\n",
      "2021-07-09 22:14:48.918802: I tensorflow/core/platform/cpu_feature_guard.cc:142] This TensorFlow binary is optimized with oneAPI Deep Neural Network Library (oneDNN) to use the following CPU instructions in performance-critical operations:  AVX2 FMA\n",
      "To enable them in other operations, rebuild TensorFlow with the appropriate compiler flags.\n"
     ]
    }
   ],
   "source": [
    "ann = tf.keras.models.Sequential() #esqueleto de la red neuronal"
   ]
  },
  {
   "cell_type": "markdown",
   "metadata": {
    "colab_type": "text",
    "id": "rP6urV6SX7kS"
   },
   "source": [
    "### Adding the input layer and the first hidden layer"
   ]
  },
  {
   "cell_type": "code",
   "execution_count": 7,
   "metadata": {},
   "outputs": [],
   "source": [
    "ann.add(tf.keras.layers.Dense(units=6, activation='relu'))"
   ]
  },
  {
   "cell_type": "markdown",
   "metadata": {
    "colab_type": "text",
    "id": "BELWAc_8YJze"
   },
   "source": [
    "### Adding the second hidden layer"
   ]
  },
  {
   "cell_type": "code",
   "execution_count": 8,
   "metadata": {},
   "outputs": [],
   "source": [
    "ann.add(tf.keras.layers.Dense(units=6, activation='relu'))"
   ]
  },
  {
   "cell_type": "markdown",
   "metadata": {
    "colab_type": "text",
    "id": "OyNEe6RXYcU4"
   },
   "source": [
    "### Adding the output layer"
   ]
  },
  {
   "cell_type": "code",
   "execution_count": 9,
   "metadata": {},
   "outputs": [],
   "source": [
    "ann.add(tf.keras.layers.Dense(units=1))"
   ]
  },
  {
   "cell_type": "markdown",
   "metadata": {
    "colab_type": "text",
    "id": "JT4u2S1_Y4WG"
   },
   "source": [
    "## Part 3 - Training the ANN"
   ]
  },
  {
   "cell_type": "markdown",
   "metadata": {
    "colab_type": "text",
    "id": "8GWlJChhY_ZI"
   },
   "source": [
    "### Compiling the ANN"
   ]
  },
  {
   "cell_type": "code",
   "execution_count": 10,
   "metadata": {},
   "outputs": [],
   "source": [
    "ann.compile(optimizer = 'adam', loss = 'mean_squared_error')"
   ]
  },
  {
   "cell_type": "markdown",
   "metadata": {
    "colab_type": "text",
    "id": "0QR_G5u7ZLSM"
   },
   "source": [
    "### Training the ANN on the Training set"
   ]
  },
  {
   "cell_type": "code",
   "execution_count": 11,
   "metadata": {},
   "outputs": [
    {
     "name": "stderr",
     "output_type": "stream",
     "text": [
      "2021-07-09 22:14:49.011303: I tensorflow/compiler/mlir/mlir_graph_optimization_pass.cc:176] None of the MLIR Optimization Passes are enabled (registered 2)\n",
      "2021-07-09 22:14:49.032289: I tensorflow/core/platform/profile_utils/cpu_utils.cc:114] CPU Frequency: 1999965000 Hz\n"
     ]
    },
    {
     "name": "stdout",
     "output_type": "stream",
     "text": [
      "Epoch 1/100\n",
      "240/240 [==============================] - 1s 643us/step - loss: 1365.0908\n",
      "Epoch 2/100\n",
      "240/240 [==============================] - 0s 776us/step - loss: 468.7411\n",
      "Epoch 3/100\n",
      "240/240 [==============================] - 0s 719us/step - loss: 397.6910\n",
      "Epoch 4/100\n",
      "240/240 [==============================] - 0s 789us/step - loss: 323.4094\n",
      "Epoch 5/100\n",
      "240/240 [==============================] - 0s 767us/step - loss: 251.5004\n",
      "Epoch 6/100\n",
      "240/240 [==============================] - 0s 752us/step - loss: 186.7885\n",
      "Epoch 7/100\n",
      "240/240 [==============================] - 0s 1ms/step - loss: 130.6086\n",
      "Epoch 8/100\n",
      "240/240 [==============================] - 0s 1ms/step - loss: 87.8216\n",
      "Epoch 9/100\n",
      "240/240 [==============================] - 0s 918us/step - loss: 58.9180\n",
      "Epoch 10/100\n",
      "240/240 [==============================] - 0s 800us/step - loss: 42.2388\n",
      "Epoch 11/100\n",
      "240/240 [==============================] - 0s 1ms/step - loss: 33.4186\n",
      "Epoch 12/100\n",
      "240/240 [==============================] - 0s 1ms/step - loss: 29.6294\n",
      "Epoch 13/100\n",
      "240/240 [==============================] - 0s 1ms/step - loss: 27.5961\n",
      "Epoch 14/100\n",
      "240/240 [==============================] - 0s 1ms/step - loss: 27.1669\n",
      "Epoch 15/100\n",
      "240/240 [==============================] - 0s 823us/step - loss: 26.8257\n",
      "Epoch 16/100\n",
      "240/240 [==============================] - 0s 840us/step - loss: 26.7804\n",
      "Epoch 17/100\n",
      "240/240 [==============================] - 0s 1ms/step - loss: 26.3853\n",
      "Epoch 18/100\n",
      "240/240 [==============================] - 0s 1ms/step - loss: 26.8123\n",
      "Epoch 19/100\n",
      "240/240 [==============================] - 0s 907us/step - loss: 26.6633\n",
      "Epoch 20/100\n",
      "240/240 [==============================] - 0s 865us/step - loss: 26.6076\n",
      "Epoch 21/100\n",
      "240/240 [==============================] - 0s 811us/step - loss: 27.0675\n",
      "Epoch 22/100\n",
      "240/240 [==============================] - 0s 791us/step - loss: 26.4891\n",
      "Epoch 23/100\n",
      "240/240 [==============================] - 0s 912us/step - loss: 26.8100\n",
      "Epoch 24/100\n",
      "240/240 [==============================] - 0s 1ms/step - loss: 26.7550\n",
      "Epoch 25/100\n",
      "240/240 [==============================] - 0s 922us/step - loss: 26.9824\n",
      "Epoch 26/100\n",
      "240/240 [==============================] - 0s 824us/step - loss: 26.7547\n",
      "Epoch 27/100\n",
      "240/240 [==============================] - 0s 810us/step - loss: 26.9747\n",
      "Epoch 28/100\n",
      "240/240 [==============================] - 0s 762us/step - loss: 26.7696\n",
      "Epoch 29/100\n",
      "240/240 [==============================] - 0s 816us/step - loss: 26.6903\n",
      "Epoch 30/100\n",
      "240/240 [==============================] - 0s 830us/step - loss: 26.6742\n",
      "Epoch 31/100\n",
      "240/240 [==============================] - 0s 820us/step - loss: 26.5313\n",
      "Epoch 32/100\n",
      "240/240 [==============================] - 0s 824us/step - loss: 27.1481\n",
      "Epoch 33/100\n",
      "240/240 [==============================] - 0s 816us/step - loss: 26.9430\n",
      "Epoch 34/100\n",
      "240/240 [==============================] - 0s 726us/step - loss: 26.8145\n",
      "Epoch 35/100\n",
      "240/240 [==============================] - 0s 850us/step - loss: 26.9945\n",
      "Epoch 36/100\n",
      "240/240 [==============================] - 0s 1ms/step - loss: 26.8755\n",
      "Epoch 37/100\n",
      "240/240 [==============================] - 0s 1ms/step - loss: 26.7109\n",
      "Epoch 38/100\n",
      "240/240 [==============================] - 0s 1ms/step - loss: 26.4694\n",
      "Epoch 39/100\n",
      "240/240 [==============================] - 0s 916us/step - loss: 26.5987\n",
      "Epoch 40/100\n",
      "240/240 [==============================] - 0s 927us/step - loss: 26.7737\n",
      "Epoch 41/100\n",
      "240/240 [==============================] - 0s 1ms/step - loss: 27.3075\n",
      "Epoch 42/100\n",
      "240/240 [==============================] - 0s 1ms/step - loss: 26.9920\n",
      "Epoch 43/100\n",
      "240/240 [==============================] - 0s 810us/step - loss: 27.0571\n",
      "Epoch 44/100\n",
      "240/240 [==============================] - 0s 841us/step - loss: 26.9472\n",
      "Epoch 45/100\n",
      "240/240 [==============================] - 0s 813us/step - loss: 27.0353\n",
      "Epoch 46/100\n",
      "240/240 [==============================] - 0s 808us/step - loss: 26.6747\n",
      "Epoch 47/100\n",
      "240/240 [==============================] - 0s 798us/step - loss: 26.9844\n",
      "Epoch 48/100\n",
      "240/240 [==============================] - 0s 790us/step - loss: 26.6401\n",
      "Epoch 49/100\n",
      "240/240 [==============================] - 0s 865us/step - loss: 26.7577\n",
      "Epoch 50/100\n",
      "240/240 [==============================] - 0s 773us/step - loss: 26.3757\n",
      "Epoch 51/100\n",
      "240/240 [==============================] - 0s 771us/step - loss: 26.4374\n",
      "Epoch 52/100\n",
      "240/240 [==============================] - 0s 717us/step - loss: 26.4950\n",
      "Epoch 53/100\n",
      "240/240 [==============================] - 0s 833us/step - loss: 26.9624\n",
      "Epoch 54/100\n",
      "240/240 [==============================] - 0s 788us/step - loss: 27.0729\n",
      "Epoch 55/100\n",
      "240/240 [==============================] - 0s 813us/step - loss: 26.5265\n",
      "Epoch 56/100\n",
      "240/240 [==============================] - 0s 868us/step - loss: 26.7214\n",
      "Epoch 57/100\n",
      "240/240 [==============================] - 0s 822us/step - loss: 26.6628\n",
      "Epoch 58/100\n",
      "240/240 [==============================] - 0s 783us/step - loss: 26.6243\n",
      "Epoch 59/100\n",
      "240/240 [==============================] - 0s 745us/step - loss: 27.6861\n",
      "Epoch 60/100\n",
      "240/240 [==============================] - 0s 732us/step - loss: 27.1215\n",
      "Epoch 61/100\n",
      "240/240 [==============================] - 0s 789us/step - loss: 27.2417\n",
      "Epoch 62/100\n",
      "240/240 [==============================] - 0s 766us/step - loss: 27.0738\n",
      "Epoch 63/100\n",
      "240/240 [==============================] - 0s 799us/step - loss: 26.8708\n",
      "Epoch 64/100\n",
      "240/240 [==============================] - 0s 797us/step - loss: 26.4413\n",
      "Epoch 65/100\n",
      "240/240 [==============================] - 0s 776us/step - loss: 26.6077\n",
      "Epoch 66/100\n",
      "240/240 [==============================] - 0s 784us/step - loss: 26.7048\n",
      "Epoch 67/100\n",
      "240/240 [==============================] - 0s 749us/step - loss: 26.5708\n",
      "Epoch 68/100\n",
      "240/240 [==============================] - 0s 849us/step - loss: 26.8766\n",
      "Epoch 69/100\n",
      "240/240 [==============================] - 0s 758us/step - loss: 27.6927\n",
      "Epoch 70/100\n",
      "240/240 [==============================] - 0s 743us/step - loss: 27.1102\n",
      "Epoch 71/100\n",
      "240/240 [==============================] - 0s 745us/step - loss: 26.8169\n",
      "Epoch 72/100\n",
      "240/240 [==============================] - 0s 755us/step - loss: 26.9798\n",
      "Epoch 73/100\n",
      "240/240 [==============================] - 0s 726us/step - loss: 27.6171\n",
      "Epoch 74/100\n",
      "240/240 [==============================] - 0s 760us/step - loss: 27.1749\n",
      "Epoch 75/100\n",
      "240/240 [==============================] - 0s 764us/step - loss: 26.3779\n",
      "Epoch 76/100\n",
      "240/240 [==============================] - 0s 793us/step - loss: 26.5260\n",
      "Epoch 77/100\n",
      "240/240 [==============================] - 0s 717us/step - loss: 26.5237\n",
      "Epoch 78/100\n",
      "240/240 [==============================] - 0s 790us/step - loss: 26.9313\n",
      "Epoch 79/100\n",
      "240/240 [==============================] - 0s 716us/step - loss: 26.7920\n",
      "Epoch 80/100\n",
      "240/240 [==============================] - 0s 771us/step - loss: 27.0191\n",
      "Epoch 81/100\n",
      "240/240 [==============================] - 0s 807us/step - loss: 27.1426\n",
      "Epoch 82/100\n",
      "240/240 [==============================] - 0s 783us/step - loss: 26.8671\n",
      "Epoch 83/100\n",
      "240/240 [==============================] - 0s 725us/step - loss: 26.6445\n",
      "Epoch 84/100\n",
      "240/240 [==============================] - 0s 784us/step - loss: 26.1786\n",
      "Epoch 85/100\n",
      "240/240 [==============================] - 0s 781us/step - loss: 26.8853\n",
      "Epoch 86/100\n",
      "240/240 [==============================] - 0s 714us/step - loss: 27.0029\n",
      "Epoch 87/100\n",
      "240/240 [==============================] - 0s 783us/step - loss: 27.0545\n",
      "Epoch 88/100\n",
      "240/240 [==============================] - 0s 737us/step - loss: 26.6593\n",
      "Epoch 89/100\n",
      "240/240 [==============================] - 0s 796us/step - loss: 26.8640\n",
      "Epoch 90/100\n",
      "240/240 [==============================] - 0s 815us/step - loss: 27.4825\n",
      "Epoch 91/100\n",
      "240/240 [==============================] - 0s 759us/step - loss: 26.4900\n",
      "Epoch 92/100\n",
      "240/240 [==============================] - 0s 836us/step - loss: 26.8979\n",
      "Epoch 93/100\n",
      "240/240 [==============================] - 0s 772us/step - loss: 26.6347\n",
      "Epoch 94/100\n",
      "240/240 [==============================] - 0s 804us/step - loss: 26.9491\n",
      "Epoch 95/100\n",
      "240/240 [==============================] - 0s 788us/step - loss: 26.8964\n",
      "Epoch 96/100\n"
     ]
    },
    {
     "name": "stdout",
     "output_type": "stream",
     "text": [
      "240/240 [==============================] - 0s 852us/step - loss: 26.7791\n",
      "Epoch 97/100\n",
      "240/240 [==============================] - 0s 727us/step - loss: 27.0044\n",
      "Epoch 98/100\n",
      "240/240 [==============================] - 0s 696us/step - loss: 27.0602\n",
      "Epoch 99/100\n",
      "240/240 [==============================] - 0s 742us/step - loss: 26.5447\n",
      "Epoch 100/100\n",
      "240/240 [==============================] - 0s 753us/step - loss: 27.6466\n"
     ]
    },
    {
     "data": {
      "text/plain": [
       "<tensorflow.python.keras.callbacks.History at 0x7f9fa1dd0a60>"
      ]
     },
     "execution_count": 11,
     "metadata": {},
     "output_type": "execute_result"
    }
   ],
   "source": [
    "ann.fit(X_train, y_train, batch_size = 32, epochs = 100)"
   ]
  },
  {
   "cell_type": "markdown",
   "metadata": {
    "colab_type": "text",
    "id": "tJj5k2MxZga3"
   },
   "source": [
    "## Part 4 - Making the predictions and evaluating the model"
   ]
  },
  {
   "cell_type": "markdown",
   "metadata": {
    "colab_type": "text",
    "id": "84QFoqGYeXHL"
   },
   "source": [
    "### Predicting the Test set results"
   ]
  },
  {
   "cell_type": "code",
   "execution_count": 15,
   "metadata": {
    "scrolled": true
   },
   "outputs": [
    {
     "name": "stdout",
     "output_type": "stream",
     "text": [
      "[[431.48 431.23]\n",
      " [462.58 460.01]\n",
      " [466.08 461.14]\n",
      " ...\n",
      " [473.34 473.26]\n",
      " [440.03 438.  ]\n",
      " [459.29 463.28]]\n"
     ]
    }
   ],
   "source": [
    "y_pred = ann.predict(X_test)\n",
    "np.set_printoptions(precision=2)\n",
    "print(np.concatenate((y_pred.reshape(len(y_pred),1), y_test.reshape(len(y_test),1)), 1))"
   ]
  }
 ],
 "metadata": {
  "colab": {
   "collapsed_sections": [],
   "name": "artificial_neural_network.ipynb",
   "provenance": [],
   "toc_visible": true
  },
  "kernelspec": {
   "display_name": "Python 3 (ipykernel)",
   "language": "python",
   "name": "python3"
  },
  "language_info": {
   "codemirror_mode": {
    "name": "ipython",
    "version": 3
   },
   "file_extension": ".py",
   "mimetype": "text/x-python",
   "name": "python",
   "nbconvert_exporter": "python",
   "pygments_lexer": "ipython3",
   "version": "3.8.10"
  }
 },
 "nbformat": 4,
 "nbformat_minor": 1
}
